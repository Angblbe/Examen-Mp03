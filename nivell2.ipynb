{
 "cells": [
  {
   "cell_type": "code",
   "execution_count": 50,
   "id": "b896ed61-4487-4f55-b350-49e7d70dc4f6",
   "metadata": {
    "autorun": true,
    "tags": []
   },
   "outputs": [],
   "source": [
    "String printBinary(String binary, int blockSize, String separator) {\n",
    "        List<String> result = new ArrayList<>();\n",
    "        int index = 0;\n",
    "        while (index < binary.length()) {\n",
    "            result.add(binary.substring(index, Math.min(index + blockSize, binary.length())));\n",
    "            index += blockSize;\n",
    "        }\n",
    "\n",
    "        return result.stream().collect(java.util.stream.Collectors.joining(separator));\n",
    "    }\n",
    "void intToBin(int input){\n",
    "    String result = Integer.toBinaryString(input);\n",
    "    String resultWithPadding = String.format(\"%32s\", result).replaceAll(\" \", \"0\");\n",
    "    System.out.println(printBinary(resultWithPadding, 4, \" \")); \n",
    "}\n",
    "\n",
    "//La funció ```intToBin``` la podeu utilitzar, si voleu, com a ajuda per a respondre les preguntes 1 i 2."
   ]
  },
  {
   "cell_type": "markdown",
   "id": "54b801d8-b4b0-4b20-a67c-5b701d1e6f56",
   "metadata": {},
   "source": [
    "# Nivell 2"
   ]
  },
  {
   "cell_type": "markdown",
   "id": "6acb5fd8-9cfe-483a-8d6c-8e2b3f3b2692",
   "metadata": {},
   "source": [
    "## Pregunta 1"
   ]
  },
  {
   "cell_type": "markdown",
   "id": "42998526-bce2-4306-9a33-e618e8c5d05a",
   "metadata": {},
   "source": [
    "**Operadors shift**\n",
    "\n",
    "Executeu el seguent codi en una cel·la del notebook:\n",
    "\n",
    "```java\n",
    "int n = 10;\n",
    "println(n<<1 == n * 2);\n",
    "println(n<<2 == n * 4);\n",
    "println(n<<3 == n * 8);\n",
    "```\n",
    "\n",
    "Explica **per què** imprimeix _true_ en cada cas? (**Raona la resposta**)"
   ]
  },
  {
   "cell_type": "code",
   "execution_count": 10,
   "id": "1e241e28-fb81-4885-b03b-d5c1d4a1753a",
   "metadata": {},
   "outputs": [
    {
     "name": "stdout",
     "output_type": "stream",
     "text": [
      "true\n",
      "true\n",
      "true\n"
     ]
    }
   ],
   "source": [
    "//Escriu i executa el codi aquí\n",
    "\n",
    "int n = 10;\n",
    "println(n<<1 == n * 2);\n",
    "println(n<<2 == n * 4);\n",
    "println(n<<3 == n * 8);"
   ]
  },
  {
   "cell_type": "markdown",
   "id": "99cdca44-50f9-464b-a8e7-9a9ea4dcee6a",
   "metadata": {
    "jupyter": {
     "source_hidden": true
    },
    "tags": []
   },
   "source": [
    "Resposta:\n",
    "\n",
    "_Escriu la teva resposta aquí_\n",
    "_10 es 00001010 en binari,  <<x -> significa en numero de posicions que desplacem el binari a la esquerra\n",
    "10<<1 sera 00010100  = 20\n",
    "10<<2 10<<1\n"
   ]
  },
  {
   "cell_type": "markdown",
   "id": "a630fd06-ee66-4b99-b417-a405cc3ff728",
   "metadata": {},
   "source": [
    "Resposta:\n",
    "\n",
    "_Escriu la teva resposta aquí_\n",
    "_10 es 00001010 en binari,  <<x -> significa en numero de posicions que desplacem el binari a la esquerra_\n",
    "    \n",
    "10<<1 sera 00010100  = 20\n",
    "10<<2 sera 00101000  = 40\n",
    "10<<3 sera 01010000  = 80\n"
   ]
  },
  {
   "cell_type": "markdown",
   "id": "beac9e74-d4a2-481a-b351-db070966a91f",
   "metadata": {},
   "source": [
    "## Pregunta 2"
   ]
  },
  {
   "cell_type": "markdown",
   "id": "ab86a9cc-78b1-4d6b-af08-9d45d1d048be",
   "metadata": {},
   "source": [
    "Executa el següent codi, cada línia en una cel·la:\n",
    "\n",
    "```java\n",
    "int n = 10;\n",
    "println(n & ~n);\n",
    "println(n | ~n);\n",
    "```"
   ]
  },
  {
   "cell_type": "code",
   "execution_count": 11,
   "id": "26029d33-e1ef-46be-ae8a-35c4998e9520",
   "metadata": {},
   "outputs": [
    {
     "name": "stdout",
     "output_type": "stream",
     "text": [
      "0\n",
      "-1\n"
     ]
    }
   ],
   "source": [
    "//Escriu i executa el codi aquí\n",
    "\n",
    "int n = 10;\n",
    "println(n & ~n);\n",
    "println(n | ~n);"
   ]
  },
  {
   "cell_type": "markdown",
   "id": "80a32860-4a5b-45f8-96cf-945f298baaa6",
   "metadata": {},
   "source": [
    "Has de contestar dues preguntes:\n",
    "\n",
    "1 - Per què s'obté 0 i -1?\n",
    "\n",
    "Resposta:\n",
    "\n",
    "S'obte 0 perque el operador & s'utilitza per sumar i ~ significa negatiu (resta) - de tal forma que el resultat sera 0\n",
    "\n",
    "S'obte -1 ja que es la suma binaria \n",
    "\n",
    "2 - Per què, posis el valor que li posis a la variable _n_, sempre dóna el mateix (0 i -1)?\n",
    "\n",
    "Resposta:\n",
    "\n",
    "Perque el resultat no depen del valor de x sino de les operacions que fem amb els valors"
   ]
  },
  {
   "cell_type": "markdown",
   "id": "b61701fd-7032-4adb-af2a-508e0b667371",
   "metadata": {},
   "source": [
    "## Exercici 1"
   ]
  },
  {
   "cell_type": "markdown",
   "id": "747e1fa9-08e4-4881-a3be-5feb4fdb1057",
   "metadata": {},
   "source": [
    "Escriu una funció, la signatura de la qual serà\n",
    "\n",
    "```java\n",
    "int[] removeNegatives2(int[] array);\n",
    "```\n",
    "\n",
    "que retorni un array que només contingui els elements no negatius de l'array d'entrada (és a dir, els positius i els zeros).\n",
    "\n",
    "Exemples:\n",
    "```\n",
    "[2,-1,-5,4,6] -> retorna [2,4,6]\n",
    "[0,-3,3] -> retorna [0,3] \n",
    "[] -> retorna [] (l'array buit -sense elements- retorna un array buit)\n",
    "```\n"
   ]
  },
  {
   "cell_type": "code",
   "execution_count": 20,
   "id": "5b3ac07b-ca13-404f-b00d-637f62457a4d",
   "metadata": {},
   "outputs": [
    {
     "name": "stdout",
     "output_type": "stream",
     "text": [
      "[2, 1, 4, 6]\n",
      "[0, 3]\n",
      "[]\n"
     ]
    }
   ],
   "source": [
    "//Escriu i prova el teu codi aquí\n",
    "\n",
    "int[] removeNegatives2(int[] array){\n",
    "    int count = 0;\n",
    "    for(int i = 0; i < array.length; i++){\n",
    "        if(array[i] >= 0){\n",
    "            count = count +1;\n",
    "            \n",
    "        }\n",
    "    }\n",
    "    \n",
    "    int[] arraycopy = new int[count];\n",
    "    \n",
    "    for(int x = 0; x < arraycopy.length; x++){\n",
    "        arraycopy[x] = -2;\n",
    "    }\n",
    "    \n",
    "    for(int u = 0; u < array.length; u++){\n",
    "        \n",
    "        if(array[u] >= 0){\n",
    "\n",
    "            for(int y = 0; y < arraycopy.length; y++){\n",
    "                if(arraycopy[y] == -2){\n",
    "                \n",
    "                    arraycopy[y] = array[u];\n",
    "\n",
    "                    break;\n",
    "                    \n",
    "                }\n",
    "            }\n",
    "            \n",
    "        }\n",
    "        \n",
    "    }\n",
    "    \n",
    "    \n",
    "\n",
    "    return arraycopy;\n",
    "}\n",
    "\n",
    "//Crea les teves proves aquí\n",
    "\n",
    "int a[] = {2,1,-5,4,6};\n",
    "System.out.println(Arrays.toString(removeNegatives2(a)));\n",
    "\n",
    "int b[] = {0,-3,3};\n",
    "System.out.println(Arrays.toString(removeNegatives2(b)));\n",
    "\n",
    "int c[] = {};\n",
    "System.out.println(Arrays.toString(removeNegatives2(c)));"
   ]
  },
  {
   "cell_type": "markdown",
   "id": "89d4609e-c040-4029-bd48-083b931f9f4d",
   "metadata": {},
   "source": [
    "## Exercici 2 (arrays bidimensionals)"
   ]
  },
  {
   "cell_type": "markdown",
   "id": "38fb449c-f92c-423e-9572-098dce117abd",
   "metadata": {},
   "source": [
    "En aquest exercici heu d'implementar una funció molt semblant a la del nivell 1 (arrays bidimensionals), però ara li passarem com a segon paràmetre un número enter ``k`` que representa la columna que volem obtenir de la matriu.\n",
    "\n",
    "Per tant, si la matriu que es passa com a primer paràmetre és de mida ``n x m`` (n files i m columnes), el valor de ``k`` estarà entre 0 i m-1. **Si el valor de k no està entre 0 i k-1, la funció ha de retornar null i imprimir per pantalla un missatge d'error**.\n",
    "\n",
    "El resultat d'aquesta funció quan k = 0 ha de ser idèntic al resultat retornat per la funció del nivell 1."
   ]
  },
  {
   "cell_type": "markdown",
   "id": "f76f6527-a444-4041-b02d-d08b901d4927",
   "metadata": {},
   "source": [
    "**Exemple**:\n",
    "\n",
    "```\n",
    "int[][] matrix = {{0,1},{2,3},{4,5}};\n",
    "\n",
    "getColumn(matrix,0) -> retorna [0,1]\n",
    "getColumn(matrix,1) -> retorna [2,3]\n",
    "getColumn(matrix,2) -> retorna [4,5]\n",
    "getColumn(matrix,-2) -> retorna null i imprimeix error\n",
    "getColumn(matrix,5) -> retorna null i imprimeix error\n",
    "```"
   ]
  },
  {
   "cell_type": "code",
   "execution_count": 49,
   "id": "63e6755c-0cbb-45fa-b7a9-dd8e15938602",
   "metadata": {},
   "outputs": [
    {
     "name": "stdout",
     "output_type": "stream",
     "text": [
      "[4, 5]\n"
     ]
    }
   ],
   "source": [
    "//Implementeu la funció aquí:\n",
    "\n",
    "int[] getColumn(int[][] matrix, int k){\n",
    "    \n",
    "    int outarray[] = new int[matrix[0].length];\n",
    "    \n",
    "    if(k <= matrix.length -1 && k >= 0 ){\n",
    "        \n",
    "        outarray = matrix[k];\n",
    "        \n",
    "    }else{\n",
    "        \n",
    "        System.out.println(\"El numero k no es valid\");\n",
    "        \n",
    "    }\n",
    "    \n",
    "    return outarray;\n",
    "    \n",
    "}\n",
    "\n",
    "//Crea les teves proves aquí\n",
    "\n",
    "int [][] a = {{0,1},{2,3},{4,5}};\n",
    "System.out.println(Arrays.toString(getColumn(a,2)));"
   ]
  },
  {
   "cell_type": "code",
   "execution_count": null,
   "id": "16a3e982-b191-4993-a77f-fbe0d62593ca",
   "metadata": {},
   "outputs": [],
   "source": []
  }
 ],
 "metadata": {
  "kernelspec": {
   "display_name": "Java 11",
   "language": "java",
   "name": "java"
  },
  "language_info": {
   "codemirror_mode": "java",
   "file_extension": ".jshell",
   "mimetype": "text/x-java-source",
   "name": "Java",
   "pygments_lexer": "java",
   "version": "11.0.13+8-Ubuntu-0ubuntu1.20.04"
  }
 },
 "nbformat": 4,
 "nbformat_minor": 5
}
